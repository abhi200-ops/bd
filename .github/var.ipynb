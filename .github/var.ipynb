{
  "nbformat": 4,
  "nbformat_minor": 0,
  "metadata": {
    "colab": {
      "provenance": []
    },
    "kernelspec": {
      "name": "python3",
      "display_name": "Python 3"
    },
    "language_info": {
      "name": "python"
    }
  },
  "cells": [
    {
      "cell_type": "code",
      "execution_count": 2,
      "metadata": {
        "id": "UZUah2uJREEz"
      },
      "outputs": [],
      "source": [
        "from statsmodels.graphics.tsaplots import plot_acf,plot_pacf\n",
        "from statsmodels.tsa.statespace.varmax import VARMAX\n",
        "from statsmodels.tsa.api import VAR\n",
        "from statsmodels.tsa.stattools import grangercausalitytests, adfuller\n",
        "from tqdm import tqdm_notebook\n",
        "from itertools import product\n",
        "\n",
        "import matplotlib.pyplot as plt\n",
        "import statsmodels.api as sm\n",
        "import pandas as pd\n",
        "import numpy as np\n",
        "\n",
        "import warnings\n",
        "warnings.filterwarnings('ignore')"
      ]
    },
    {
      "cell_type": "code",
      "source": [
        "df=pd.read_csv('spend.csv',parse_dates=True,index_col=0)\n",
        "sp=pd.read_csv('earn.csv',parse_dates=True,index_col=0)"
      ],
      "metadata": {
        "id": "wT7iBTODR5TS"
      },
      "execution_count": 5,
      "outputs": []
    },
    {
      "cell_type": "code",
      "source": [
        "df=df.join(sp)"
      ],
      "metadata": {
        "id": "MwBlbU6xSXPX"
      },
      "execution_count": 6,
      "outputs": []
    },
    {
      "cell_type": "code",
      "source": [
        "df"
      ],
      "metadata": {
        "colab": {
          "base_uri": "https://localhost:8080/",
          "height": 455
        },
        "id": "RFOel5RJSylr",
        "outputId": "0133bb8b-9d24-485d-a072-742818cf5b70"
      },
      "execution_count": 7,
      "outputs": [
        {
          "output_type": "execute_result",
          "data": {
            "text/plain": [
              "            Spending    Money\n",
              "Date                         \n",
              "1995-01-01    4851.2   3492.4\n",
              "1995-02-01    4850.8   3489.9\n",
              "1995-03-01    4885.4   3491.1\n",
              "1995-04-01    4890.2   3499.2\n",
              "1995-05-01    4933.1   3524.2\n",
              "...              ...      ...\n",
              "2015-08-01   12394.0  12096.8\n",
              "2015-09-01   12392.8  12153.8\n",
              "2015-10-01   12416.1  12187.7\n",
              "2015-11-01   12450.1  12277.4\n",
              "2015-12-01   12469.1  12335.9\n",
              "\n",
              "[252 rows x 2 columns]"
            ],
            "text/html": [
              "\n",
              "  <div id=\"df-926193da-4b65-476f-b062-b73165690cb5\" class=\"colab-df-container\">\n",
              "    <div>\n",
              "<style scoped>\n",
              "    .dataframe tbody tr th:only-of-type {\n",
              "        vertical-align: middle;\n",
              "    }\n",
              "\n",
              "    .dataframe tbody tr th {\n",
              "        vertical-align: top;\n",
              "    }\n",
              "\n",
              "    .dataframe thead th {\n",
              "        text-align: right;\n",
              "    }\n",
              "</style>\n",
              "<table border=\"1\" class=\"dataframe\">\n",
              "  <thead>\n",
              "    <tr style=\"text-align: right;\">\n",
              "      <th></th>\n",
              "      <th>Spending</th>\n",
              "      <th>Money</th>\n",
              "    </tr>\n",
              "    <tr>\n",
              "      <th>Date</th>\n",
              "      <th></th>\n",
              "      <th></th>\n",
              "    </tr>\n",
              "  </thead>\n",
              "  <tbody>\n",
              "    <tr>\n",
              "      <th>1995-01-01</th>\n",
              "      <td>4851.2</td>\n",
              "      <td>3492.4</td>\n",
              "    </tr>\n",
              "    <tr>\n",
              "      <th>1995-02-01</th>\n",
              "      <td>4850.8</td>\n",
              "      <td>3489.9</td>\n",
              "    </tr>\n",
              "    <tr>\n",
              "      <th>1995-03-01</th>\n",
              "      <td>4885.4</td>\n",
              "      <td>3491.1</td>\n",
              "    </tr>\n",
              "    <tr>\n",
              "      <th>1995-04-01</th>\n",
              "      <td>4890.2</td>\n",
              "      <td>3499.2</td>\n",
              "    </tr>\n",
              "    <tr>\n",
              "      <th>1995-05-01</th>\n",
              "      <td>4933.1</td>\n",
              "      <td>3524.2</td>\n",
              "    </tr>\n",
              "    <tr>\n",
              "      <th>...</th>\n",
              "      <td>...</td>\n",
              "      <td>...</td>\n",
              "    </tr>\n",
              "    <tr>\n",
              "      <th>2015-08-01</th>\n",
              "      <td>12394.0</td>\n",
              "      <td>12096.8</td>\n",
              "    </tr>\n",
              "    <tr>\n",
              "      <th>2015-09-01</th>\n",
              "      <td>12392.8</td>\n",
              "      <td>12153.8</td>\n",
              "    </tr>\n",
              "    <tr>\n",
              "      <th>2015-10-01</th>\n",
              "      <td>12416.1</td>\n",
              "      <td>12187.7</td>\n",
              "    </tr>\n",
              "    <tr>\n",
              "      <th>2015-11-01</th>\n",
              "      <td>12450.1</td>\n",
              "      <td>12277.4</td>\n",
              "    </tr>\n",
              "    <tr>\n",
              "      <th>2015-12-01</th>\n",
              "      <td>12469.1</td>\n",
              "      <td>12335.9</td>\n",
              "    </tr>\n",
              "  </tbody>\n",
              "</table>\n",
              "<p>252 rows × 2 columns</p>\n",
              "</div>\n",
              "    <div class=\"colab-df-buttons\">\n",
              "\n",
              "  <div class=\"colab-df-container\">\n",
              "    <button class=\"colab-df-convert\" onclick=\"convertToInteractive('df-926193da-4b65-476f-b062-b73165690cb5')\"\n",
              "            title=\"Convert this dataframe to an interactive table.\"\n",
              "            style=\"display:none;\">\n",
              "\n",
              "  <svg xmlns=\"http://www.w3.org/2000/svg\" height=\"24px\" viewBox=\"0 -960 960 960\">\n",
              "    <path d=\"M120-120v-720h720v720H120Zm60-500h600v-160H180v160Zm220 220h160v-160H400v160Zm0 220h160v-160H400v160ZM180-400h160v-160H180v160Zm440 0h160v-160H620v160ZM180-180h160v-160H180v160Zm440 0h160v-160H620v160Z\"/>\n",
              "  </svg>\n",
              "    </button>\n",
              "\n",
              "  <style>\n",
              "    .colab-df-container {\n",
              "      display:flex;\n",
              "      gap: 12px;\n",
              "    }\n",
              "\n",
              "    .colab-df-convert {\n",
              "      background-color: #E8F0FE;\n",
              "      border: none;\n",
              "      border-radius: 50%;\n",
              "      cursor: pointer;\n",
              "      display: none;\n",
              "      fill: #1967D2;\n",
              "      height: 32px;\n",
              "      padding: 0 0 0 0;\n",
              "      width: 32px;\n",
              "    }\n",
              "\n",
              "    .colab-df-convert:hover {\n",
              "      background-color: #E2EBFA;\n",
              "      box-shadow: 0px 1px 2px rgba(60, 64, 67, 0.3), 0px 1px 3px 1px rgba(60, 64, 67, 0.15);\n",
              "      fill: #174EA6;\n",
              "    }\n",
              "\n",
              "    .colab-df-buttons div {\n",
              "      margin-bottom: 4px;\n",
              "    }\n",
              "\n",
              "    [theme=dark] .colab-df-convert {\n",
              "      background-color: #3B4455;\n",
              "      fill: #D2E3FC;\n",
              "    }\n",
              "\n",
              "    [theme=dark] .colab-df-convert:hover {\n",
              "      background-color: #434B5C;\n",
              "      box-shadow: 0px 1px 3px 1px rgba(0, 0, 0, 0.15);\n",
              "      filter: drop-shadow(0px 1px 2px rgba(0, 0, 0, 0.3));\n",
              "      fill: #FFFFFF;\n",
              "    }\n",
              "  </style>\n",
              "\n",
              "    <script>\n",
              "      const buttonEl =\n",
              "        document.querySelector('#df-926193da-4b65-476f-b062-b73165690cb5 button.colab-df-convert');\n",
              "      buttonEl.style.display =\n",
              "        google.colab.kernel.accessAllowed ? 'block' : 'none';\n",
              "\n",
              "      async function convertToInteractive(key) {\n",
              "        const element = document.querySelector('#df-926193da-4b65-476f-b062-b73165690cb5');\n",
              "        const dataTable =\n",
              "          await google.colab.kernel.invokeFunction('convertToInteractive',\n",
              "                                                    [key], {});\n",
              "        if (!dataTable) return;\n",
              "\n",
              "        const docLinkHtml = 'Like what you see? Visit the ' +\n",
              "          '<a target=\"_blank\" href=https://colab.research.google.com/notebooks/data_table.ipynb>data table notebook</a>'\n",
              "          + ' to learn more about interactive tables.';\n",
              "        element.innerHTML = '';\n",
              "        dataTable['output_type'] = 'display_data';\n",
              "        await google.colab.output.renderOutput(dataTable, element);\n",
              "        const docLink = document.createElement('div');\n",
              "        docLink.innerHTML = docLinkHtml;\n",
              "        element.appendChild(docLink);\n",
              "      }\n",
              "    </script>\n",
              "  </div>\n",
              "\n",
              "\n",
              "<div id=\"df-e61d1687-fed7-477d-a6ef-95158800726c\">\n",
              "  <button class=\"colab-df-quickchart\" onclick=\"quickchart('df-e61d1687-fed7-477d-a6ef-95158800726c')\"\n",
              "            title=\"Suggest charts\"\n",
              "            style=\"display:none;\">\n",
              "\n",
              "<svg xmlns=\"http://www.w3.org/2000/svg\" height=\"24px\"viewBox=\"0 0 24 24\"\n",
              "     width=\"24px\">\n",
              "    <g>\n",
              "        <path d=\"M19 3H5c-1.1 0-2 .9-2 2v14c0 1.1.9 2 2 2h14c1.1 0 2-.9 2-2V5c0-1.1-.9-2-2-2zM9 17H7v-7h2v7zm4 0h-2V7h2v10zm4 0h-2v-4h2v4z\"/>\n",
              "    </g>\n",
              "</svg>\n",
              "  </button>\n",
              "\n",
              "<style>\n",
              "  .colab-df-quickchart {\n",
              "      --bg-color: #E8F0FE;\n",
              "      --fill-color: #1967D2;\n",
              "      --hover-bg-color: #E2EBFA;\n",
              "      --hover-fill-color: #174EA6;\n",
              "      --disabled-fill-color: #AAA;\n",
              "      --disabled-bg-color: #DDD;\n",
              "  }\n",
              "\n",
              "  [theme=dark] .colab-df-quickchart {\n",
              "      --bg-color: #3B4455;\n",
              "      --fill-color: #D2E3FC;\n",
              "      --hover-bg-color: #434B5C;\n",
              "      --hover-fill-color: #FFFFFF;\n",
              "      --disabled-bg-color: #3B4455;\n",
              "      --disabled-fill-color: #666;\n",
              "  }\n",
              "\n",
              "  .colab-df-quickchart {\n",
              "    background-color: var(--bg-color);\n",
              "    border: none;\n",
              "    border-radius: 50%;\n",
              "    cursor: pointer;\n",
              "    display: none;\n",
              "    fill: var(--fill-color);\n",
              "    height: 32px;\n",
              "    padding: 0;\n",
              "    width: 32px;\n",
              "  }\n",
              "\n",
              "  .colab-df-quickchart:hover {\n",
              "    background-color: var(--hover-bg-color);\n",
              "    box-shadow: 0 1px 2px rgba(60, 64, 67, 0.3), 0 1px 3px 1px rgba(60, 64, 67, 0.15);\n",
              "    fill: var(--button-hover-fill-color);\n",
              "  }\n",
              "\n",
              "  .colab-df-quickchart-complete:disabled,\n",
              "  .colab-df-quickchart-complete:disabled:hover {\n",
              "    background-color: var(--disabled-bg-color);\n",
              "    fill: var(--disabled-fill-color);\n",
              "    box-shadow: none;\n",
              "  }\n",
              "\n",
              "  .colab-df-spinner {\n",
              "    border: 2px solid var(--fill-color);\n",
              "    border-color: transparent;\n",
              "    border-bottom-color: var(--fill-color);\n",
              "    animation:\n",
              "      spin 1s steps(1) infinite;\n",
              "  }\n",
              "\n",
              "  @keyframes spin {\n",
              "    0% {\n",
              "      border-color: transparent;\n",
              "      border-bottom-color: var(--fill-color);\n",
              "      border-left-color: var(--fill-color);\n",
              "    }\n",
              "    20% {\n",
              "      border-color: transparent;\n",
              "      border-left-color: var(--fill-color);\n",
              "      border-top-color: var(--fill-color);\n",
              "    }\n",
              "    30% {\n",
              "      border-color: transparent;\n",
              "      border-left-color: var(--fill-color);\n",
              "      border-top-color: var(--fill-color);\n",
              "      border-right-color: var(--fill-color);\n",
              "    }\n",
              "    40% {\n",
              "      border-color: transparent;\n",
              "      border-right-color: var(--fill-color);\n",
              "      border-top-color: var(--fill-color);\n",
              "    }\n",
              "    60% {\n",
              "      border-color: transparent;\n",
              "      border-right-color: var(--fill-color);\n",
              "    }\n",
              "    80% {\n",
              "      border-color: transparent;\n",
              "      border-right-color: var(--fill-color);\n",
              "      border-bottom-color: var(--fill-color);\n",
              "    }\n",
              "    90% {\n",
              "      border-color: transparent;\n",
              "      border-bottom-color: var(--fill-color);\n",
              "    }\n",
              "  }\n",
              "</style>\n",
              "\n",
              "  <script>\n",
              "    async function quickchart(key) {\n",
              "      const quickchartButtonEl =\n",
              "        document.querySelector('#' + key + ' button');\n",
              "      quickchartButtonEl.disabled = true;  // To prevent multiple clicks.\n",
              "      quickchartButtonEl.classList.add('colab-df-spinner');\n",
              "      try {\n",
              "        const charts = await google.colab.kernel.invokeFunction(\n",
              "            'suggestCharts', [key], {});\n",
              "      } catch (error) {\n",
              "        console.error('Error during call to suggestCharts:', error);\n",
              "      }\n",
              "      quickchartButtonEl.classList.remove('colab-df-spinner');\n",
              "      quickchartButtonEl.classList.add('colab-df-quickchart-complete');\n",
              "    }\n",
              "    (() => {\n",
              "      let quickchartButtonEl =\n",
              "        document.querySelector('#df-e61d1687-fed7-477d-a6ef-95158800726c button');\n",
              "      quickchartButtonEl.style.display =\n",
              "        google.colab.kernel.accessAllowed ? 'block' : 'none';\n",
              "    })();\n",
              "  </script>\n",
              "</div>\n",
              "    </div>\n",
              "  </div>\n"
            ]
          },
          "metadata": {},
          "execution_count": 7
        }
      ]
    },
    {
      "cell_type": "code",
      "source": [
        "df.shape"
      ],
      "metadata": {
        "colab": {
          "base_uri": "https://localhost:8080/"
        },
        "id": "iBrKuIfqSzdR",
        "outputId": "6f280b79-4a2f-4d73-a777-532c067bb9dc"
      },
      "execution_count": 8,
      "outputs": [
        {
          "output_type": "execute_result",
          "data": {
            "text/plain": [
              "(252, 2)"
            ]
          },
          "metadata": {},
          "execution_count": 8
        }
      ]
    },
    {
      "cell_type": "code",
      "source": [
        "plt.plot(df[['Spending','Money']])"
      ],
      "metadata": {
        "colab": {
          "base_uri": "https://localhost:8080/",
          "height": 465
        },
        "id": "b7kQxKLUS6BV",
        "outputId": "13d73624-c162-4d28-919e-b39d331c69b4"
      },
      "execution_count": 10,
      "outputs": [
        {
          "output_type": "execute_result",
          "data": {
            "text/plain": [
              "[<matplotlib.lines.Line2D at 0x7ea594402b90>,\n",
              " <matplotlib.lines.Line2D at 0x7ea593cf4730>]"
            ]
          },
          "metadata": {},
          "execution_count": 10
        },
        {
          "output_type": "display_data",
          "data": {
            "text/plain": [
              "<Figure size 640x480 with 1 Axes>"
            ],
            "image/png": "[encoded data removed]"
          },
          "metadata": {}
        }
      ]
    },
    {
      "cell_type": "code",
      "source": [
        "ad_fuller_result_1=adfuller(df['Spending'])\n",
        "print(ad_fuller_result_1[1])\n",
        "ad_fuller_result_2=adfuller(df['Money'])\n",
        "print(ad_fuller_result_2[1])"
      ],
      "metadata": {
        "colab": {
          "base_uri": "https://localhost:8080/"
        },
        "id": "JkeNRUF_TCMs",
        "outputId": "232131ef-286b-4af4-c218-039dc9e29626"
      },
      "execution_count": 14,
      "outputs": [
        {
          "output_type": "stream",
          "name": "stdout",
          "text": [
            "0.9693009944428312\n",
            "1.0\n"
          ]
        }
      ]
    },
    {
      "cell_type": "code",
      "source": [
        "ad_fuller_result_1=adfuller(df['Spending'].diff()[1:])\n",
        "print(ad_fuller_result_1[1])\n",
        "ad_fuller_result_2=adfuller(df['Money'].diff()[1:])\n",
        "print(ad_fuller_result_2[1])"
      ],
      "metadata": {
        "colab": {
          "base_uri": "https://localhost:8080/"
        },
        "id": "8Bi_EpjdTs_i",
        "outputId": "3a8ac1d8-da80-4a51-f200-50d784a3c973"
      },
      "execution_count": 17,
      "outputs": [
        {
          "output_type": "stream",
          "name": "stdout",
          "text": [
            "2.0410272592129706e-10\n",
            "0.26198379785112447\n"
          ]
        }
      ]
    },
    {
      "cell_type": "code",
      "source": [
        "df_diff=df.diff()\n",
        "df_diff=df_diff.dropna()"
      ],
      "metadata": {
        "id": "ZFEoPzyoUQlH"
      },
      "execution_count": 18,
      "outputs": []
    },
    {
      "cell_type": "code",
      "source": [
        "ad_fuller_result_1=adfuller(df_diff['Spending'].diff()[1:])\n",
        "print(ad_fuller_result_1[1])\n",
        "ad_fuller_result_2=adfuller(df_diff['Money'].diff()[1:])\n",
        "print(ad_fuller_result_2[1])"
      ],
      "metadata": {
        "colab": {
          "base_uri": "https://localhost:8080/"
        },
        "id": "jvgd3nBBUrS4",
        "outputId": "12c6de66-9a8b-44fe-8530-12c90b35e9ba"
      },
      "execution_count": 19,
      "outputs": [
        {
          "output_type": "stream",
          "name": "stdout",
          "text": [
            "2.6878999679871547e-14\n",
            "4.760674931295455e-10\n"
          ]
        }
      ]
    },
    {
      "cell_type": "code",
      "source": [
        "granger1=grangercausalitytests(df[['Spending','Money']],7)"
      ],
      "metadata": {
        "colab": {
          "base_uri": "https://localhost:8080/"
        },
        "id": "j-J40_MuVR6a",
        "outputId": "5a75c966-8dc3-4b3b-e73d-71fed6e1641d"
      },
      "execution_count": 22,
      "outputs": [
        {
          "output_type": "stream",
          "name": "stdout",
          "text": [
            "\n",
            "Granger Causality\n",
            "number of lags (no zero) 1\n",
            "ssr based F test:         F=0.5856  , p=0.4448  , df_denom=248, df_num=1\n",
            "ssr based chi2 test:   chi2=0.5927  , p=0.4414  , df=1\n",
            "likelihood ratio test: chi2=0.5920  , p=0.4416  , df=1\n",
            "parameter F test:         F=0.5856  , p=0.4448  , df_denom=248, df_num=1\n",
            "\n",
            "Granger Causality\n",
            "number of lags (no zero) 2\n",
            "ssr based F test:         F=0.6461  , p=0.5250  , df_denom=245, df_num=2\n",
            "ssr based chi2 test:   chi2=1.3186  , p=0.5172  , df=2\n",
            "likelihood ratio test: chi2=1.3151  , p=0.5181  , df=2\n",
            "parameter F test:         F=0.6461  , p=0.5250  , df_denom=245, df_num=2\n",
            "\n",
            "Granger Causality\n",
            "number of lags (no zero) 3\n",
            "ssr based F test:         F=1.6772  , p=0.1725  , df_denom=242, df_num=3\n",
            "ssr based chi2 test:   chi2=5.1771  , p=0.1593  , df=3\n",
            "likelihood ratio test: chi2=5.1240  , p=0.1629  , df=3\n",
            "parameter F test:         F=1.6772  , p=0.1725  , df_denom=242, df_num=3\n",
            "\n",
            "Granger Causality\n",
            "number of lags (no zero) 4\n",
            "ssr based F test:         F=1.5428  , p=0.1905  , df_denom=239, df_num=4\n",
            "ssr based chi2 test:   chi2=6.4034  , p=0.1710  , df=4\n",
            "likelihood ratio test: chi2=6.3222  , p=0.1763  , df=4\n",
            "parameter F test:         F=1.5428  , p=0.1905  , df_denom=239, df_num=4\n",
            "\n",
            "Granger Causality\n",
            "number of lags (no zero) 5\n",
            "ssr based F test:         F=1.4318  , p=0.2135  , df_denom=236, df_num=5\n",
            "ssr based chi2 test:   chi2=7.4925  , p=0.1865  , df=5\n",
            "likelihood ratio test: chi2=7.3811  , p=0.1938  , df=5\n",
            "parameter F test:         F=1.4318  , p=0.2135  , df_denom=236, df_num=5\n",
            "\n",
            "Granger Causality\n",
            "number of lags (no zero) 6\n",
            "ssr based F test:         F=1.5207  , p=0.1721  , df_denom=233, df_num=6\n",
            "ssr based chi2 test:   chi2=9.6330  , p=0.1410  , df=6\n",
            "likelihood ratio test: chi2=9.4492  , p=0.1498  , df=6\n",
            "parameter F test:         F=1.5207  , p=0.1721  , df_denom=233, df_num=6\n",
            "\n",
            "Granger Causality\n",
            "number of lags (no zero) 7\n",
            "ssr based F test:         F=1.7036  , p=0.1090  , df_denom=230, df_num=7\n",
            "ssr based chi2 test:   chi2=12.7027 , p=0.0797  , df=7\n",
            "likelihood ratio test: chi2=12.3844 , p=0.0886  , df=7\n",
            "parameter F test:         F=1.7036  , p=0.1090  , df_denom=230, df_num=7\n"
          ]
        }
      ]
    },
    {
      "cell_type": "code",
      "source": [
        "granger2=grangercausalitytests(df[['Money','Spending']],10)"
      ],
      "metadata": {
        "colab": {
          "base_uri": "https://localhost:8080/"
        },
        "id": "540u1F8DVgu1",
        "outputId": "2e591810-b026-4ac5-846e-cb8d8324756c"
      },
      "execution_count": 24,
      "outputs": [
        {
          "output_type": "stream",
          "name": "stdout",
          "text": [
            "\n",
            "Granger Causality\n",
            "number of lags (no zero) 1\n",
            "ssr based F test:         F=0.6439  , p=0.4231  , df_denom=248, df_num=1\n",
            "ssr based chi2 test:   chi2=0.6517  , p=0.4195  , df=1\n",
            "likelihood ratio test: chi2=0.6509  , p=0.4198  , df=1\n",
            "parameter F test:         F=0.6439  , p=0.4231  , df_denom=248, df_num=1\n",
            "\n",
            "Granger Causality\n",
            "number of lags (no zero) 2\n",
            "ssr based F test:         F=3.0760  , p=0.0479  , df_denom=245, df_num=2\n",
            "ssr based chi2 test:   chi2=6.2776  , p=0.0433  , df=2\n",
            "likelihood ratio test: chi2=6.2001  , p=0.0450  , df=2\n",
            "parameter F test:         F=3.0760  , p=0.0479  , df_denom=245, df_num=2\n",
            "\n",
            "Granger Causality\n",
            "number of lags (no zero) 3\n",
            "ssr based F test:         F=3.2731  , p=0.0218  , df_denom=242, df_num=3\n",
            "ssr based chi2 test:   chi2=10.1034 , p=0.0177  , df=3\n",
            "likelihood ratio test: chi2=9.9038  , p=0.0194  , df=3\n",
            "parameter F test:         F=3.2731  , p=0.0218  , df_denom=242, df_num=3\n",
            "\n",
            "Granger Causality\n",
            "number of lags (no zero) 4\n",
            "ssr based F test:         F=2.6203  , p=0.0357  , df_denom=239, df_num=4\n",
            "ssr based chi2 test:   chi2=10.8760 , p=0.0280  , df=4\n",
            "likelihood ratio test: chi2=10.6443 , p=0.0309  , df=4\n",
            "parameter F test:         F=2.6203  , p=0.0357  , df_denom=239, df_num=4\n",
            "\n",
            "Granger Causality\n",
            "number of lags (no zero) 5\n",
            "ssr based F test:         F=3.7026  , p=0.0030  , df_denom=236, df_num=5\n",
            "ssr based chi2 test:   chi2=19.3761 , p=0.0016  , df=5\n",
            "likelihood ratio test: chi2=18.6537 , p=0.0022  , df=5\n",
            "parameter F test:         F=3.7026  , p=0.0030  , df_denom=236, df_num=5\n",
            "\n",
            "Granger Causality\n",
            "number of lags (no zero) 6\n",
            "ssr based F test:         F=3.0533  , p=0.0068  , df_denom=233, df_num=6\n",
            "ssr based chi2 test:   chi2=19.3419 , p=0.0036  , df=6\n",
            "likelihood ratio test: chi2=18.6192 , p=0.0049  , df=6\n",
            "parameter F test:         F=3.0533  , p=0.0068  , df_denom=233, df_num=6\n",
            "\n",
            "Granger Causality\n",
            "number of lags (no zero) 7\n",
            "ssr based F test:         F=2.7799  , p=0.0086  , df_denom=230, df_num=7\n",
            "ssr based chi2 test:   chi2=20.7285 , p=0.0042  , df=7\n",
            "likelihood ratio test: chi2=19.8981 , p=0.0058  , df=7\n",
            "parameter F test:         F=2.7799  , p=0.0086  , df_denom=230, df_num=7\n",
            "\n",
            "Granger Causality\n",
            "number of lags (no zero) 8\n",
            "ssr based F test:         F=2.5548  , p=0.0110  , df_denom=227, df_num=8\n",
            "ssr based chi2 test:   chi2=21.9692 , p=0.0050  , df=8\n",
            "likelihood ratio test: chi2=21.0358 , p=0.0071  , df=8\n",
            "parameter F test:         F=2.5548  , p=0.0110  , df_denom=227, df_num=8\n",
            "\n",
            "Granger Causality\n",
            "number of lags (no zero) 9\n",
            "ssr based F test:         F=2.3513  , p=0.0149  , df_denom=224, df_num=9\n",
            "ssr based chi2 test:   chi2=22.9570 , p=0.0063  , df=9\n",
            "likelihood ratio test: chi2=21.9364 , p=0.0091  , df=9\n",
            "parameter F test:         F=2.3513  , p=0.0149  , df_denom=224, df_num=9\n",
            "\n",
            "Granger Causality\n",
            "number of lags (no zero) 10\n",
            "ssr based F test:         F=2.5552  , p=0.0061  , df_denom=221, df_num=10\n",
            "ssr based chi2 test:   chi2=27.9795 , p=0.0018  , df=10\n",
            "likelihood ratio test: chi2=26.4768 , p=0.0031  , df=10\n",
            "parameter F test:         F=2.5552  , p=0.0061  , df_denom=221, df_num=10\n"
          ]
        }
      ]
    },
    {
      "cell_type": "code",
      "source": [
        "train=df[:-12]\n",
        "test=df[-12:]"
      ],
      "metadata": {
        "id": "r3Js_P7tVuaQ"
      },
      "execution_count": 25,
      "outputs": []
    },
    {
      "cell_type": "code",
      "source": [
        "train.shape"
      ],
      "metadata": {
        "colab": {
          "base_uri": "https://localhost:8080/"
        },
        "id": "dRv7siCBWNb-",
        "outputId": "b46295c3-f5c4-472a-f7e4-f8932d108d4d"
      },
      "execution_count": 26,
      "outputs": [
        {
          "output_type": "execute_result",
          "data": {
            "text/plain": [
              "(240, 2)"
            ]
          },
          "metadata": {},
          "execution_count": 26
        }
      ]
    },
    {
      "cell_type": "code",
      "source": [
        "test.shape"
      ],
      "metadata": {
        "colab": {
          "base_uri": "https://localhost:8080/"
        },
        "id": "lgM4wYmVWOud",
        "outputId": "121feccc-ed0c-4587-8aed-c83759abfe42"
      },
      "execution_count": 27,
      "outputs": [
        {
          "output_type": "execute_result",
          "data": {
            "text/plain": [
              "(12, 2)"
            ]
          },
          "metadata": {},
          "execution_count": 27
        }
      ]
    },
    {
      "cell_type": "code",
      "source": [
        "#we fit differenced/stationary training data into model/here we have to difference twice\n",
        "train_diff=train.diff()\n",
        "train_diff=train_diff.dropna()"
      ],
      "metadata": {
        "id": "Do59LKVCWQCH"
      },
      "execution_count": 28,
      "outputs": []
    },
    {
      "cell_type": "code",
      "source": [
        "#difference it again\n",
        "train_diff=train_diff.diff()\n",
        "train_diff=train_diff.dropna()"
      ],
      "metadata": {
        "id": "dL7LBhYcWtKh"
      },
      "execution_count": 29,
      "outputs": []
    },
    {
      "cell_type": "code",
      "source": [
        "model=VAR(train_diff)"
      ],
      "metadata": {
        "id": "8Hz6UQP7W1qA"
      },
      "execution_count": 30,
      "outputs": []
    },
    {
      "cell_type": "code",
      "source": [
        "sorted_order=model.select_order(maxlags=20)\n",
        "print(sorted_order.summary())"
      ],
      "metadata": {
        "colab": {
          "base_uri": "https://localhost:8080/"
        },
        "id": "iXS6tvZPW9ws",
        "outputId": "91a2eee5-fc36-49ce-80cc-da805abea539"
      },
      "execution_count": 31,
      "outputs": [
        {
          "output_type": "stream",
          "name": "stdout",
          "text": [
            " VAR Order Selection (* highlights the minimums)  \n",
            "==================================================\n",
            "       AIC         BIC         FPE         HQIC   \n",
            "--------------------------------------------------\n",
            "0        14.89       14.92   2.915e+06       14.90\n",
            "1        14.31       14.40   1.638e+06       14.35\n",
            "2        14.09       14.24   1.312e+06       14.15\n",
            "3        13.97      14.19*   1.171e+06       14.06\n",
            "4        13.95       14.23   1.145e+06       14.06\n",
            "5        13.91       14.25   1.099e+06      14.05*\n",
            "6        13.92       14.32   1.107e+06       14.08\n",
            "7        13.91       14.37   1.098e+06       14.10\n",
            "8       13.85*       14.38  1.039e+06*       14.07\n",
            "9        13.87       14.46   1.055e+06       14.11\n",
            "10       13.90       14.55   1.088e+06       14.16\n",
            "11       13.93       14.65   1.129e+06       14.22\n",
            "12       13.96       14.74   1.161e+06       14.28\n",
            "13       13.96       14.80   1.158e+06       14.30\n",
            "14       13.99       14.89   1.197e+06       14.36\n",
            "15       13.98       14.94   1.179e+06       14.37\n",
            "16       13.98       15.01   1.189e+06       14.40\n",
            "17       14.00       15.09   1.215e+06       14.44\n",
            "18       14.02       15.17   1.233e+06       14.48\n",
            "19       14.01       15.22   1.226e+06       14.50\n",
            "20       14.05       15.32   1.271e+06       14.56\n",
            "--------------------------------------------------\n"
          ]
        }
      ]
    },
    {
      "cell_type": "code",
      "source": [
        "#when fitting model using varmax fit original data as varmax automatically makes it stationary\n",
        "var_model=VARMAX(train,order=(8,0),enforce_stationarity=True)\n",
        "fitted_model=var_model.fit(disp=False)\n",
        "print(fitted_model.summary())"
      ],
      "metadata": {
        "colab": {
          "base_uri": "https://localhost:8080/"
        },
        "id": "xgLEvSmyXHbV",
        "outputId": "18a45b87-a253-4d31-eb90-e730908850fe"
      },
      "execution_count": 32,
      "outputs": [
        {
          "output_type": "stream",
          "name": "stdout",
          "text": [
            "                             Statespace Model Results                            \n",
            "=================================================================================\n",
            "Dep. Variable:     ['Spending', 'Money']   No. Observations:                  240\n",
            "Model:                            VAR(8)   Log Likelihood             -413315.987\n",
            "                             + intercept   AIC                         826705.975\n",
            "Date:                   Wed, 06 Dec 2023   BIC                         826834.759\n",
            "Time:                           09:04:41   HQIC                        826757.865\n",
            "Sample:                       01-01-1995                                         \n",
            "                            - 12-01-2014                                         \n",
            "Covariance Type:                     opg                                         \n",
            "===================================================================================\n",
            "Ljung-Box (L1) (Q):         237.17, 239.18   Jarque-Bera (JB):           8.33, 5.41\n",
            "Prob(Q):                        0.00, 0.00   Prob(JB):                   0.02, 0.07\n",
            "Heteroskedasticity (H):         0.28, 0.24   Skew:                       0.24, 0.11\n",
            "Prob(H) (two-sided):            0.00, 0.00   Kurtosis:                   2.23, 2.30\n",
            "                         Results for equation Spending                         \n",
            "===============================================================================\n",
            "                  coef    std err          z      P>|z|      [0.025      0.975]\n",
            "-------------------------------------------------------------------------------\n",
            "intercept    8375.6985      9.406    890.478      0.000    8357.263    8394.134\n",
            "L1.Spending    -0.8469      0.010    -82.499      0.000      -0.867      -0.827\n",
            "L1.Money       -0.6329      0.016    -40.548      0.000      -0.663      -0.602\n",
            "L2.Spending    -1.3698      0.013   -106.872      0.000      -1.395      -1.345\n",
            "L2.Money        1.0221      0.020     50.154      0.000       0.982       1.062\n",
            "L3.Spending    -1.0983      0.012    -90.250      0.000      -1.122      -1.074\n",
            "L3.Money        2.2932      0.020    115.201      0.000       2.254       2.332\n",
            "L4.Spending    -0.1792      0.017    -10.793      0.000      -0.212      -0.147\n",
            "L4.Money        1.9533      0.022     90.199      0.000       1.911       1.996\n",
            "L5.Spending     0.6861      0.013     51.921      0.000       0.660       0.712\n",
            "L5.Money        0.4185      0.024     17.458      0.000       0.372       0.466\n",
            "L6.Spending     0.9252      0.017     53.330      0.000       0.891       0.959\n",
            "L6.Money       -1.1145      0.031    -35.396      0.000      -1.176      -1.053\n",
            "L7.Spending     0.4886      0.014     34.179      0.000       0.461       0.517\n",
            "L7.Money       -1.4619      0.030    -48.517      0.000      -1.521      -1.403\n",
            "L8.Spending    -0.1471      0.011    -13.895      0.000      -0.168      -0.126\n",
            "L8.Money       -0.5153      0.017    -29.991      0.000      -0.549      -0.482\n",
            "                           Results for equation Money                          \n",
            "===============================================================================\n",
            "                  coef    std err          z      P>|z|      [0.025      0.975]\n",
            "-------------------------------------------------------------------------------\n",
            "intercept    6725.3549     12.588    534.265      0.000    6700.683    6750.027\n",
            "L1.Spending    -0.9171      0.008   -119.113      0.000      -0.932      -0.902\n",
            "L1.Money       -0.0452      0.012     -3.866      0.000      -0.068      -0.022\n",
            "L2.Spending    -1.1320      0.011   -107.596      0.000      -1.153      -1.111\n",
            "L2.Money        1.0176      0.016     62.687      0.000       0.986       1.049\n",
            "L3.Spending    -0.8298      0.010    -85.692      0.000      -0.849      -0.811\n",
            "L3.Money        1.5917      0.016     98.426      0.000       1.560       1.623\n",
            "L4.Spending    -0.2017      0.014    -14.937      0.000      -0.228      -0.175\n",
            "L4.Money        1.2823      0.019     68.053      0.000       1.245       1.319\n",
            "L5.Spending     0.3571      0.011     32.548      0.000       0.336       0.379\n",
            "L5.Money        0.3418      0.019     17.535      0.000       0.304       0.380\n",
            "L6.Spending     0.5315      0.014     39.049      0.000       0.505       0.558\n",
            "L6.Money       -0.5867      0.026    -22.973      0.000      -0.637      -0.537\n",
            "L7.Spending     0.2916      0.011     26.556      0.000       0.270       0.313\n",
            "L7.Money       -0.8150      0.024    -33.546      0.000      -0.863      -0.767\n",
            "L8.Spending    -0.0709      0.009     -8.264      0.000      -0.088      -0.054\n",
            "L8.Money       -0.2882      0.014    -21.226      0.000      -0.315      -0.262\n",
            "                                  Error covariance matrix                                  \n",
            "===========================================================================================\n",
            "                              coef    std err          z      P>|z|      [0.025      0.975]\n",
            "-------------------------------------------------------------------------------------------\n",
            "sqrt.var.Spending          35.1721      0.332    106.072      0.000      34.522      35.822\n",
            "sqrt.cov.Spending.Money    -5.1332      0.448    -11.464      0.000      -6.011      -4.256\n",
            "sqrt.var.Money             26.9583      0.157    172.230      0.000      26.652      27.265\n",
            "===========================================================================================\n",
            "\n",
            "Warnings:\n",
            "[1] Covariance matrix calculated using the outer product of gradients (complex-step).\n",
            "[2] Covariance matrix is singular or near-singular, with condition number 1.29e+16. Standard errors may be unstable.\n"
          ]
        }
      ]
    },
    {
      "cell_type": "code",
      "source": [
        "n_forecast = 12\n",
        "predict = fitted_model.get_prediction(start=len(train),end=len(train) + n_forecast-1)\n",
        "\n",
        "predictions=predict.predicted_mean"
      ],
      "metadata": {
        "id": "sysErVVBXxKR"
      },
      "execution_count": 33,
      "outputs": []
    },
    {
      "cell_type": "code",
      "source": [
        "predictions.columns=['Spending','money']"
      ],
      "metadata": {
        "id": "3mXu-EvUYlKB"
      },
      "execution_count": 35,
      "outputs": []
    },
    {
      "cell_type": "code",
      "source": [
        "predictions"
      ],
      "metadata": {
        "colab": {
          "base_uri": "https://localhost:8080/",
          "height": 425
        },
        "id": "LBqnm_9qYvQI",
        "outputId": "92598b1b-fe0b-4f6f-c57a-c6d44307f516"
      },
      "execution_count": 36,
      "outputs": [
        {
          "output_type": "execute_result",
          "data": {
            "text/plain": [
              "                Spending         money\n",
              "2015-01-01  12531.006472  11894.781913\n",
              "2015-02-01  12185.361710  11612.236892\n",
              "2015-03-01  12487.700696  11810.838588\n",
              "2015-04-01  12399.579841  11679.346361\n",
              "2015-05-01  12379.500942  11638.304924\n",
              "2015-06-01  12296.211365  11555.280264\n",
              "2015-07-01  12227.893934  11497.146404\n",
              "2015-08-01  12182.993044  11460.869265\n",
              "2015-09-01  12104.936614  11409.520532\n",
              "2015-10-01  12110.341524  11413.172870\n",
              "2015-11-01  11960.333118  11321.013240\n",
              "2015-12-01  12122.374692  11437.832602"
            ],
            "text/html": [
              "\n",
              "  <div id=\"df-894e7992-10a1-459d-a4c0-283208a25e7b\" class=\"colab-df-container\">\n",
              "    <div>\n",
              "<style scoped>\n",
              "    .dataframe tbody tr th:only-of-type {\n",
              "        vertical-align: middle;\n",
              "    }\n",
              "\n",
              "    .dataframe tbody tr th {\n",
              "        vertical-align: top;\n",
              "    }\n",
              "\n",
              "    .dataframe thead th {\n",
              "        text-align: right;\n",
              "    }\n",
              "</style>\n",
              "<table border=\"1\" class=\"dataframe\">\n",
              "  <thead>\n",
              "    <tr style=\"text-align: right;\">\n",
              "      <th></th>\n",
              "      <th>Spending</th>\n",
              "      <th>money</th>\n",
              "    </tr>\n",
              "  </thead>\n",
              "  <tbody>\n",
              "    <tr>\n",
              "      <th>2015-01-01</th>\n",
              "      <td>12531.006472</td>\n",
              "      <td>11894.781913</td>\n",
              "    </tr>\n",
              "    <tr>\n",
              "      <th>2015-02-01</th>\n",
              "      <td>12185.361710</td>\n",
              "      <td>11612.236892</td>\n",
              "    </tr>\n",
              "    <tr>\n",
              "      <th>2015-03-01</th>\n",
              "      <td>12487.700696</td>\n",
              "      <td>11810.838588</td>\n",
              "    </tr>\n",
              "    <tr>\n",
              "      <th>2015-04-01</th>\n",
              "      <td>12399.579841</td>\n",
              "      <td>11679.346361</td>\n",
              "    </tr>\n",
              "    <tr>\n",
              "      <th>2015-05-01</th>\n",
              "      <td>12379.500942</td>\n",
              "      <td>11638.304924</td>\n",
              "    </tr>\n",
              "    <tr>\n",
              "      <th>2015-06-01</th>\n",
              "      <td>12296.211365</td>\n",
              "      <td>11555.280264</td>\n",
              "    </tr>\n",
              "    <tr>\n",
              "      <th>2015-07-01</th>\n",
              "      <td>12227.893934</td>\n",
              "      <td>11497.146404</td>\n",
              "    </tr>\n",
              "    <tr>\n",
              "      <th>2015-08-01</th>\n",
              "      <td>12182.993044</td>\n",
              "      <td>11460.869265</td>\n",
              "    </tr>\n",
              "    <tr>\n",
              "      <th>2015-09-01</th>\n",
              "      <td>12104.936614</td>\n",
              "      <td>11409.520532</td>\n",
              "    </tr>\n",
              "    <tr>\n",
              "      <th>2015-10-01</th>\n",
              "      <td>12110.341524</td>\n",
              "      <td>11413.172870</td>\n",
              "    </tr>\n",
              "    <tr>\n",
              "      <th>2015-11-01</th>\n",
              "      <td>11960.333118</td>\n",
              "      <td>11321.013240</td>\n",
              "    </tr>\n",
              "    <tr>\n",
              "      <th>2015-12-01</th>\n",
              "      <td>12122.374692</td>\n",
              "      <td>11437.832602</td>\n",
              "    </tr>\n",
              "  </tbody>\n",
              "</table>\n",
              "</div>\n",
              "    <div class=\"colab-df-buttons\">\n",
              "\n",
              "  <div class=\"colab-df-container\">\n",
              "    <button class=\"colab-df-convert\" onclick=\"convertToInteractive('df-894e7992-10a1-459d-a4c0-283208a25e7b')\"\n",
              "            title=\"Convert this dataframe to an interactive table.\"\n",
              "            style=\"display:none;\">\n",
              "\n",
              "  <svg xmlns=\"http://www.w3.org/2000/svg\" height=\"24px\" viewBox=\"0 -960 960 960\">\n",
              "    <path d=\"M120-120v-720h720v720H120Zm60-500h600v-160H180v160Zm220 220h160v-160H400v160Zm0 220h160v-160H400v160ZM180-400h160v-160H180v160Zm440 0h160v-160H620v160ZM180-180h160v-160H180v160Zm440 0h160v-160H620v160Z\"/>\n",
              "  </svg>\n",
              "    </button>\n",
              "\n",
              "  <style>\n",
              "    .colab-df-container {\n",
              "      display:flex;\n",
              "      gap: 12px;\n",
              "    }\n",
              "\n",
              "    .colab-df-convert {\n",
              "      background-color: #E8F0FE;\n",
              "      border: none;\n",
              "      border-radius: 50%;\n",
              "      cursor: pointer;\n",
              "      display: none;\n",
              "      fill: #1967D2;\n",
              "      height: 32px;\n",
              "      padding: 0 0 0 0;\n",
              "      width: 32px;\n",
              "    }\n",
              "\n",
              "    .colab-df-convert:hover {\n",
              "      background-color: #E2EBFA;\n",
              "      box-shadow: 0px 1px 2px rgba(60, 64, 67, 0.3), 0px 1px 3px 1px rgba(60, 64, 67, 0.15);\n",
              "      fill: #174EA6;\n",
              "    }\n",
              "\n",
              "    .colab-df-buttons div {\n",
              "      margin-bottom: 4px;\n",
              "    }\n",
              "\n",
              "    [theme=dark] .colab-df-convert {\n",
              "      background-color: #3B4455;\n",
              "      fill: #D2E3FC;\n",
              "    }\n",
              "\n",
              "    [theme=dark] .colab-df-convert:hover {\n",
              "      background-color: #434B5C;\n",
              "      box-shadow: 0px 1px 3px 1px rgba(0, 0, 0, 0.15);\n",
              "      filter: drop-shadow(0px 1px 2px rgba(0, 0, 0, 0.3));\n",
              "      fill: #FFFFFF;\n",
              "    }\n",
              "  </style>\n",
              "\n",
              "    <script>\n",
              "      const buttonEl =\n",
              "        document.querySelector('#df-894e7992-10a1-459d-a4c0-283208a25e7b button.colab-df-convert');\n",
              "      buttonEl.style.display =\n",
              "        google.colab.kernel.accessAllowed ? 'block' : 'none';\n",
              "\n",
              "      async function convertToInteractive(key) {\n",
              "        const element = document.querySelector('#df-894e7992-10a1-459d-a4c0-283208a25e7b');\n",
              "        const dataTable =\n",
              "          await google.colab.kernel.invokeFunction('convertToInteractive',\n",
              "                                                    [key], {});\n",
              "        if (!dataTable) return;\n",
              "\n",
              "        const docLinkHtml = 'Like what you see? Visit the ' +\n",
              "          '<a target=\"_blank\" href=https://colab.research.google.com/notebooks/data_table.ipynb>data table notebook</a>'\n",
              "          + ' to learn more about interactive tables.';\n",
              "        element.innerHTML = '';\n",
              "        dataTable['output_type'] = 'display_data';\n",
              "        await google.colab.output.renderOutput(dataTable, element);\n",
              "        const docLink = document.createElement('div');\n",
              "        docLink.innerHTML = docLinkHtml;\n",
              "        element.appendChild(docLink);\n",
              "      }\n",
              "    </script>\n",
              "  </div>\n",
              "\n",
              "\n",
              "<div id=\"df-616c7ec1-d1fb-4bd3-91ce-f70a2e633320\">\n",
              "  <button class=\"colab-df-quickchart\" onclick=\"quickchart('df-616c7ec1-d1fb-4bd3-91ce-f70a2e633320')\"\n",
              "            title=\"Suggest charts\"\n",
              "            style=\"display:none;\">\n",
              "\n",
              "<svg xmlns=\"http://www.w3.org/2000/svg\" height=\"24px\"viewBox=\"0 0 24 24\"\n",
              "     width=\"24px\">\n",
              "    <g>\n",
              "        <path d=\"M19 3H5c-1.1 0-2 .9-2 2v14c0 1.1.9 2 2 2h14c1.1 0 2-.9 2-2V5c0-1.1-.9-2-2-2zM9 17H7v-7h2v7zm4 0h-2V7h2v10zm4 0h-2v-4h2v4z\"/>\n",
              "    </g>\n",
              "</svg>\n",
              "  </button>\n",
              "\n",
              "<style>\n",
              "  .colab-df-quickchart {\n",
              "      --bg-color: #E8F0FE;\n",
              "      --fill-color: #1967D2;\n",
              "      --hover-bg-color: #E2EBFA;\n",
              "      --hover-fill-color: #174EA6;\n",
              "      --disabled-fill-color: #AAA;\n",
              "      --disabled-bg-color: #DDD;\n",
              "  }\n",
              "\n",
              "  [theme=dark] .colab-df-quickchart {\n",
              "      --bg-color: #3B4455;\n",
              "      --fill-color: #D2E3FC;\n",
              "      --hover-bg-color: #434B5C;\n",
              "      --hover-fill-color: #FFFFFF;\n",
              "      --disabled-bg-color: #3B4455;\n",
              "      --disabled-fill-color: #666;\n",
              "  }\n",
              "\n",
              "  .colab-df-quickchart {\n",
              "    background-color: var(--bg-color);\n",
              "    border: none;\n",
              "    border-radius: 50%;\n",
              "    cursor: pointer;\n",
              "    display: none;\n",
              "    fill: var(--fill-color);\n",
              "    height: 32px;\n",
              "    padding: 0;\n",
              "    width: 32px;\n",
              "  }\n",
              "\n",
              "  .colab-df-quickchart:hover {\n",
              "    background-color: var(--hover-bg-color);\n",
              "    box-shadow: 0 1px 2px rgba(60, 64, 67, 0.3), 0 1px 3px 1px rgba(60, 64, 67, 0.15);\n",
              "    fill: var(--button-hover-fill-color);\n",
              "  }\n",
              "\n",
              "  .colab-df-quickchart-complete:disabled,\n",
              "  .colab-df-quickchart-complete:disabled:hover {\n",
              "    background-color: var(--disabled-bg-color);\n",
              "    fill: var(--disabled-fill-color);\n",
              "    box-shadow: none;\n",
              "  }\n",
              "\n",
              "  .colab-df-spinner {\n",
              "    border: 2px solid var(--fill-color);\n",
              "    border-color: transparent;\n",
              "    border-bottom-color: var(--fill-color);\n",
              "    animation:\n",
              "      spin 1s steps(1) infinite;\n",
              "  }\n",
              "\n",
              "  @keyframes spin {\n",
              "    0% {\n",
              "      border-color: transparent;\n",
              "      border-bottom-color: var(--fill-color);\n",
              "      border-left-color: var(--fill-color);\n",
              "    }\n",
              "    20% {\n",
              "      border-color: transparent;\n",
              "      border-left-color: var(--fill-color);\n",
              "      border-top-color: var(--fill-color);\n",
              "    }\n",
              "    30% {\n",
              "      border-color: transparent;\n",
              "      border-left-color: var(--fill-color);\n",
              "      border-top-color: var(--fill-color);\n",
              "      border-right-color: var(--fill-color);\n",
              "    }\n",
              "    40% {\n",
              "      border-color: transparent;\n",
              "      border-right-color: var(--fill-color);\n",
              "      border-top-color: var(--fill-color);\n",
              "    }\n",
              "    60% {\n",
              "      border-color: transparent;\n",
              "      border-right-color: var(--fill-color);\n",
              "    }\n",
              "    80% {\n",
              "      border-color: transparent;\n",
              "      border-right-color: var(--fill-color);\n",
              "      border-bottom-color: var(--fill-color);\n",
              "    }\n",
              "    90% {\n",
              "      border-color: transparent;\n",
              "      border-bottom-color: var(--fill-color);\n",
              "    }\n",
              "  }\n",
              "</style>\n",
              "\n",
              "  <script>\n",
              "    async function quickchart(key) {\n",
              "      const quickchartButtonEl =\n",
              "        document.querySelector('#' + key + ' button');\n",
              "      quickchartButtonEl.disabled = true;  // To prevent multiple clicks.\n",
              "      quickchartButtonEl.classList.add('colab-df-spinner');\n",
              "      try {\n",
              "        const charts = await google.colab.kernel.invokeFunction(\n",
              "            'suggestCharts', [key], {});\n",
              "      } catch (error) {\n",
              "        console.error('Error during call to suggestCharts:', error);\n",
              "      }\n",
              "      quickchartButtonEl.classList.remove('colab-df-spinner');\n",
              "      quickchartButtonEl.classList.add('colab-df-quickchart-complete');\n",
              "    }\n",
              "    (() => {\n",
              "      let quickchartButtonEl =\n",
              "        document.querySelector('#df-616c7ec1-d1fb-4bd3-91ce-f70a2e633320 button');\n",
              "      quickchartButtonEl.style.display =\n",
              "        google.colab.kernel.accessAllowed ? 'block' : 'none';\n",
              "    })();\n",
              "  </script>\n",
              "</div>\n",
              "    </div>\n",
              "  </div>\n"
            ]
          },
          "metadata": {},
          "execution_count": 36
        }
      ]
    },
    {
      "cell_type": "code",
      "source": [
        "test_vs_pred=pd.concat([test,predictions],axis=1)"
      ],
      "metadata": {
        "id": "Nmef7j_gY1KT"
      },
      "execution_count": 37,
      "outputs": []
    },
    {
      "cell_type": "code",
      "source": [
        "plt.plot(test_vs_pred)"
      ],
      "metadata": {
        "colab": {
          "base_uri": "https://localhost:8080/",
          "height": 499
        },
        "id": "-hS9eO8XZFiG",
        "outputId": "9ceaaeea-d2c9-4204-df7c-841f06a451c3"
      },
      "execution_count": 38,
      "outputs": [
        {
          "output_type": "execute_result",
          "data": {
            "text/plain": [
              "[<matplotlib.lines.Line2D at 0x7ea59462bbb0>,\n",
              " <matplotlib.lines.Line2D at 0x7ea59437c790>,\n",
              " <matplotlib.lines.Line2D at 0x7ea59437f130>,\n",
              " <matplotlib.lines.Line2D at 0x7ea59437cd90>]"
            ]
          },
          "metadata": {},
          "execution_count": 38
        },
        {
          "output_type": "display_data",
          "data": {
            "text/plain": [
              "<Figure size 640x480 with 1 Axes>"
            ],
            "image/png": "[encoded data removed]"
          },
          "metadata": {}
        }
      ]
    },
    {
      "cell_type": "code",
      "source": [
        "from sklearn.metrics import mean_squared_error\n",
        "import math\n",
        "from statistics import mean\n",
        "\n",
        "rmse_spend=math.sqrt(mean_squared_error(predictions['Spending'],test['Spending']))\n",
        "print('Mean value of spending is : {}. Root Mean Squared Error is :{}'.format(mean(test['Spending']),rmse_spend))\n",
        "\n",
        "rmse_money=math.sqrt(mean_squared_error(predictions['money'],test['Money']))\n",
        "print('Mean value of money is : {}. Root Mean Squared Error is :{}'.format(mean(test['Money']),rmse_money))"
      ],
      "metadata": {
        "colab": {
          "base_uri": "https://localhost:8080/"
        },
        "id": "ZZY5oLC0ZIRx",
        "outputId": "00e2bbae-d8fb-4daf-a05b-cc4ccc8ff1a7"
      },
      "execution_count": 40,
      "outputs": [
        {
          "output_type": "stream",
          "name": "stdout",
          "text": [
            "Mean value of spending is : 12294.533333333333. Root Mean Squared Error is :289.60665905389874\n",
            "Mean value of money is : 12034.008333333333. Root Mean Squared Error is :578.1056391704385\n"
          ]
        }
      ]
    },
    {
      "cell_type": "code",
      "source": [],
      "metadata": {
        "id": "Ivom1CnxZrOh"
      },
      "execution_count": null,
      "outputs": []
    }
  ]
}