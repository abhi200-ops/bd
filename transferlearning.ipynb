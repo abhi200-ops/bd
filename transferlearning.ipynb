{
 "cells": [
  {
   "cell_type": "code",
   "execution_count": 1,
   "id": "6d87340f",
   "metadata": {},
   "outputs": [],
   "source": [
    "from keras.applications.resnet import ResNet50"
   ]
  },
  {
   "cell_type": "code",
   "execution_count": 2,
   "id": "c0056961",
   "metadata": {},
   "outputs": [
    {
     "name": "stdout",
     "output_type": "stream",
     "text": [
      "Downloading data from https://storage.googleapis.com/tensorflow/keras-applications/resnet/resnet50_weights_tf_dim_ordering_tf_kernels.h5\n",
      "102967424/102967424 [==============================] - 93s 1us/step\n"
     ]
    }
   ],
   "source": [
    "model=ResNet50()"
   ]
  },
  {
   "cell_type": "code",
   "execution_count": 6,
   "id": "55b7eeb4",
   "metadata": {},
   "outputs": [
    {
     "name": "stdout",
     "output_type": "stream",
     "text": [
      "1/1 [==============================] - 1s 1s/step\n",
      "Downloading data from https://storage.googleapis.com/download.tensorflow.org/data/imagenet_class_index.json\n",
      "35363/35363 [==============================] - 0s 1us/step\n",
      "[[('n02504458', 'African_elephant', 0.13123061), ('n01871265', 'tusker', 0.12797512), ('n04370456', 'sweatshirt', 0.05931745), ('n03623198', 'knee_pad', 0.031124404), ('n03000247', 'chain_mail', 0.027082283)]]\n"
     ]
    }
   ],
   "source": [
    "from PIL import Image\n",
    "from keras.applications.imagenet_utils import decode_predictions\n",
    "import numpy as np\n",
    "im=Image.open('download.jpeg')\n",
    "imagewidth=224\n",
    "imageheight=224\n",
    "imagesize=(imagewidth,imageheight)\n",
    "im=im.resize(imagesize)\n",
    "im = np.expand_dims(im, axis=0)\n",
    "im = np.array(im)\n",
    "model.trainable=False\n",
    "preds = model.predict(im)\n",
    "print(decode_predictions(preds))"
   ]
  },
  {
   "cell_type": "code",
   "execution_count": 7,
   "id": "55d3ff27",
   "metadata": {},
   "outputs": [
    {
     "name": "stdout",
     "output_type": "stream",
     "text": [
      "1/1 [==============================] - 0s 109ms/step\n",
      "[[('n02085936', 'Maltese_dog', 0.10508963), ('n02098286', 'West_Highland_white_terrier', 0.06957473), ('n02095889', 'Sealyham_terrier', 0.05767975), ('n02108915', 'French_bulldog', 0.04398749), ('n02112137', 'chow', 0.04318881)]]\n"
     ]
    }
   ],
   "source": [
    "from PIL import Image\n",
    "from keras.applications.imagenet_utils import decode_predictions\n",
    "import numpy as np\n",
    "im=Image.open('cat.jpeg')\n",
    "width=224\n",
    "height=224\n",
    "size=(width,height)\n",
    "im=im.resize(size)\n",
    "im=np.expand_dims(im,axis=0)\n",
    "im=np.array(im)\n",
    "model.trainable=False\n",
    "preds=model.predict(im)\n",
    "print(decode_predictions(preds))"
   ]
  },
  {
   "cell_type": "code",
   "execution_count": 8,
   "id": "d4e61ae9",
   "metadata": {},
   "outputs": [
    {
     "name": "stdout",
     "output_type": "stream",
     "text": [
      "1/1 [==============================] - 1s 1s/step\n"
     ]
    }
   ],
   "source": [
    "from PIL import Image\n",
    "from keras.applications.imagenet_utils import decode_predictions\n",
    "import numpy as np\n",
    "im=Image.open('download.jpeg')\n",
    "im=im.resize((224,224))\n",
    "im=np.expand_dims(im,axis=0)\n",
    "im=np.array(im)\n",
    "model=ResNet50()\n",
    "model.trainable=False\n",
    "predss=model.predict(im)\n",
    "op=decode_predictions(predss)"
   ]
  },
  {
   "cell_type": "code",
   "execution_count": 9,
   "id": "5cca5e91",
   "metadata": {},
   "outputs": [
    {
     "name": "stdout",
     "output_type": "stream",
     "text": [
      "[[('n02504458', 'African_elephant', 0.13123061), ('n01871265', 'tusker', 0.12797512), ('n04370456', 'sweatshirt', 0.05931745), ('n03623198', 'knee_pad', 0.031124404), ('n03000247', 'chain_mail', 0.027082283)]]\n"
     ]
    }
   ],
   "source": [
    "print(op)"
   ]
  },
  {
   "cell_type": "code",
   "execution_count": 10,
   "id": "8409677e",
   "metadata": {},
   "outputs": [
    {
     "name": "stdout",
     "output_type": "stream",
     "text": [
      "Downloading data from https://storage.googleapis.com/tensorflow/keras-applications/vgg16/vgg16_weights_tf_dim_ordering_tf_kernels_notop.h5\n",
      "58889256/58889256 [==============================] - 81s 1us/step\n"
     ]
    }
   ],
   "source": [
    "from keras.applications.vgg16 import VGG16\n",
    "basemodel=VGG16(weights = 'imagenet', include_top = False, input_shape = (224,224,3))\n"
   ]
  },
  {
   "cell_type": "code",
   "execution_count": 11,
   "id": "fe1f794c",
   "metadata": {},
   "outputs": [
    {
     "name": "stdout",
     "output_type": "stream",
     "text": [
      "Model: \"vgg16\"\n",
      "_________________________________________________________________\n",
      " Layer (type)                Output Shape              Param #   \n",
      "=================================================================\n",
      " input_3 (InputLayer)        [(None, 224, 224, 3)]     0         \n",
      "                                                                 \n",
      " block1_conv1 (Conv2D)       (None, 224, 224, 64)      1792      \n",
      "                                                                 \n",
      " block1_conv2 (Conv2D)       (None, 224, 224, 64)      36928     \n",
      "                                                                 \n",
      " block1_pool (MaxPooling2D)  (None, 112, 112, 64)      0         \n",
      "                                                                 \n",
      " block2_conv1 (Conv2D)       (None, 112, 112, 128)     73856     \n",
      "                                                                 \n",
      " block2_conv2 (Conv2D)       (None, 112, 112, 128)     147584    \n",
      "                                                                 \n",
      " block2_pool (MaxPooling2D)  (None, 56, 56, 128)       0         \n",
      "                                                                 \n",
      " block3_conv1 (Conv2D)       (None, 56, 56, 256)       295168    \n",
      "                                                                 \n",
      " block3_conv2 (Conv2D)       (None, 56, 56, 256)       590080    \n",
      "                                                                 \n",
      " block3_conv3 (Conv2D)       (None, 56, 56, 256)       590080    \n",
      "                                                                 \n",
      " block3_pool (MaxPooling2D)  (None, 28, 28, 256)       0         \n",
      "                                                                 \n",
      " block4_conv1 (Conv2D)       (None, 28, 28, 512)       1180160   \n",
      "                                                                 \n",
      " block4_conv2 (Conv2D)       (None, 28, 28, 512)       2359808   \n",
      "                                                                 \n",
      " block4_conv3 (Conv2D)       (None, 28, 28, 512)       2359808   \n",
      "                                                                 \n",
      " block4_pool (MaxPooling2D)  (None, 14, 14, 512)       0         \n",
      "                                                                 \n",
      " block5_conv1 (Conv2D)       (None, 14, 14, 512)       2359808   \n",
      "                                                                 \n",
      " block5_conv2 (Conv2D)       (None, 14, 14, 512)       2359808   \n",
      "                                                                 \n",
      " block5_conv3 (Conv2D)       (None, 14, 14, 512)       2359808   \n",
      "                                                                 \n",
      " block5_pool (MaxPooling2D)  (None, 7, 7, 512)         0         \n",
      "                                                                 \n",
      "=================================================================\n",
      "Total params: 14714688 (56.13 MB)\n",
      "Trainable params: 14714688 (56.13 MB)\n",
      "Non-trainable params: 0 (0.00 Byte)\n",
      "_________________________________________________________________\n"
     ]
    }
   ],
   "source": [
    "basemodel.summary()\n"
   ]
  },
  {
   "cell_type": "code",
   "execution_count": 13,
   "id": "2070e387",
   "metadata": {},
   "outputs": [],
   "source": [
    "layer_dict = dict([(layer.name, layer)for layer in basemodel.layers])"
   ]
  },
  {
   "cell_type": "code",
   "execution_count": 14,
   "id": "07df1e83",
   "metadata": {},
   "outputs": [
    {
     "data": {
      "text/plain": [
       "{'input_3': <keras.src.engine.input_layer.InputLayer at 0x2a2bf317690>,\n",
       " 'block1_conv1': <keras.src.layers.convolutional.conv2d.Conv2D at 0x2a2bf2dcb10>,\n",
       " 'block1_conv2': <keras.src.layers.convolutional.conv2d.Conv2D at 0x2a2bf7bce50>,\n",
       " 'block1_pool': <keras.src.layers.pooling.max_pooling2d.MaxPooling2D at 0x2a2bf09a350>,\n",
       " 'block2_conv1': <keras.src.layers.convolutional.conv2d.Conv2D at 0x2a2be858f90>,\n",
       " 'block2_conv2': <keras.src.layers.convolutional.conv2d.Conv2D at 0x2a2c14ae950>,\n",
       " 'block2_pool': <keras.src.layers.pooling.max_pooling2d.MaxPooling2D at 0x2a2bf04b210>,\n",
       " 'block3_conv1': <keras.src.layers.convolutional.conv2d.Conv2D at 0x2a2c146f090>,\n",
       " 'block3_conv2': <keras.src.layers.convolutional.conv2d.Conv2D at 0x2a2c14849d0>,\n",
       " 'block3_conv3': <keras.src.layers.convolutional.conv2d.Conv2D at 0x2a2b72095d0>,\n",
       " 'block3_pool': <keras.src.layers.pooling.max_pooling2d.MaxPooling2D at 0x2a2c151b490>,\n",
       " 'block4_conv1': <keras.src.layers.convolutional.conv2d.Conv2D at 0x2a2c1539210>,\n",
       " 'block4_conv2': <keras.src.layers.convolutional.conv2d.Conv2D at 0x2a2c153b350>,\n",
       " 'block4_conv3': <keras.src.layers.convolutional.conv2d.Conv2D at 0x2a2c151a590>,\n",
       " 'block4_pool': <keras.src.layers.pooling.max_pooling2d.MaxPooling2D at 0x2a2c1541ed0>,\n",
       " 'block5_conv1': <keras.src.layers.convolutional.conv2d.Conv2D at 0x2a2bf0b8450>,\n",
       " 'block5_conv2': <keras.src.layers.convolutional.conv2d.Conv2D at 0x2a2c154a010>,\n",
       " 'block5_conv3': <keras.src.layers.convolutional.conv2d.Conv2D at 0x2a2c155a510>,\n",
       " 'block5_pool': <keras.src.layers.pooling.max_pooling2d.MaxPooling2D at 0x2a2c15397d0>}"
      ]
     },
     "execution_count": 14,
     "metadata": {},
     "output_type": "execute_result"
    }
   ],
   "source": [
    "layer_dict"
   ]
  },
  {
   "cell_type": "code",
   "execution_count": 15,
   "id": "6accf40b",
   "metadata": {},
   "outputs": [],
   "source": [
    "from keras.applications.vgg16 import VGG16\n",
    "basemodel=VGG16(weights = 'imagenet', include_top = False, input_shape = (224,224,3))\n",
    "layer_dict = dict([(layer.name, layer)for layer in basemodel.layers])\n",
    "x = layer_dict[\"block5_pool\"].output\n",
    "\n",
    "from keras.layers import Conv2D,MaxPooling2D,Dropout,Flatten,Dense,Activation,BatchNormalization\n",
    "x=Conv2D(activation='relu',filters=64,kernel_size=(3,3))(x)\n",
    "x=(BatchNormalization())(x)\n",
    "x=MaxPooling2D(pool_size=(2,2))(x)\n",
    "x=Flatten()(x)\n",
    "x=Dense(256,activation='relu')(x)\n",
    "x=Dropout(0.25)(x)\n",
    "x=Dense(128,activation='relu')(x)\n",
    "x=Dropout(0.25)(x)\n",
    "x=Dense(1,activation='sigmoid')(x)\n"
   ]
  },
  {
   "cell_type": "code",
   "execution_count": 16,
   "id": "b727160d",
   "metadata": {},
   "outputs": [],
   "source": [
    "from keras.models import Model\n",
    "model=Model(basemodel.input,x)"
   ]
  },
  {
   "cell_type": "code",
   "execution_count": 17,
   "id": "66e0c358",
   "metadata": {},
   "outputs": [
    {
     "name": "stdout",
     "output_type": "stream",
     "text": [
      "Model: \"model\"\n",
      "_________________________________________________________________\n",
      " Layer (type)                Output Shape              Param #   \n",
      "=================================================================\n",
      " input_4 (InputLayer)        [(None, 224, 224, 3)]     0         \n",
      "                                                                 \n",
      " block1_conv1 (Conv2D)       (None, 224, 224, 64)      1792      \n",
      "                                                                 \n",
      " block1_conv2 (Conv2D)       (None, 224, 224, 64)      36928     \n",
      "                                                                 \n",
      " block1_pool (MaxPooling2D)  (None, 112, 112, 64)      0         \n",
      "                                                                 \n",
      " block2_conv1 (Conv2D)       (None, 112, 112, 128)     73856     \n",
      "                                                                 \n",
      " block2_conv2 (Conv2D)       (None, 112, 112, 128)     147584    \n",
      "                                                                 \n",
      " block2_pool (MaxPooling2D)  (None, 56, 56, 128)       0         \n",
      "                                                                 \n",
      " block3_conv1 (Conv2D)       (None, 56, 56, 256)       295168    \n",
      "                                                                 \n",
      " block3_conv2 (Conv2D)       (None, 56, 56, 256)       590080    \n",
      "                                                                 \n",
      " block3_conv3 (Conv2D)       (None, 56, 56, 256)       590080    \n",
      "                                                                 \n",
      " block3_pool (MaxPooling2D)  (None, 28, 28, 256)       0         \n",
      "                                                                 \n",
      " block4_conv1 (Conv2D)       (None, 28, 28, 512)       1180160   \n",
      "                                                                 \n",
      " block4_conv2 (Conv2D)       (None, 28, 28, 512)       2359808   \n",
      "                                                                 \n",
      " block4_conv3 (Conv2D)       (None, 28, 28, 512)       2359808   \n",
      "                                                                 \n",
      " block4_pool (MaxPooling2D)  (None, 14, 14, 512)       0         \n",
      "                                                                 \n",
      " block5_conv1 (Conv2D)       (None, 14, 14, 512)       2359808   \n",
      "                                                                 \n",
      " block5_conv2 (Conv2D)       (None, 14, 14, 512)       2359808   \n",
      "                                                                 \n",
      " block5_conv3 (Conv2D)       (None, 14, 14, 512)       2359808   \n",
      "                                                                 \n",
      " block5_pool (MaxPooling2D)  (None, 7, 7, 512)         0         \n",
      "                                                                 \n",
      " conv2d (Conv2D)             (None, 5, 5, 64)          294976    \n",
      "                                                                 \n",
      " batch_normalization (Batch  (None, 5, 5, 64)          256       \n",
      " Normalization)                                                  \n",
      "                                                                 \n",
      " max_pooling2d (MaxPooling2  (None, 2, 2, 64)          0         \n",
      " D)                                                              \n",
      "                                                                 \n",
      " flatten (Flatten)           (None, 256)               0         \n",
      "                                                                 \n",
      " dense (Dense)               (None, 256)               65792     \n",
      "                                                                 \n",
      " dropout (Dropout)           (None, 256)               0         \n",
      "                                                                 \n",
      " dense_1 (Dense)             (None, 128)               32896     \n",
      "                                                                 \n",
      " dropout_1 (Dropout)         (None, 128)               0         \n",
      "                                                                 \n",
      " dense_2 (Dense)             (None, 1)                 129       \n",
      "                                                                 \n",
      "=================================================================\n",
      "Total params: 15108737 (57.64 MB)\n",
      "Trainable params: 15108609 (57.63 MB)\n",
      "Non-trainable params: 128 (512.00 Byte)\n",
      "_________________________________________________________________\n"
     ]
    }
   ],
   "source": [
    "model.summary()"
   ]
  },
  {
   "cell_type": "code",
   "execution_count": 18,
   "id": "8562c6b8",
   "metadata": {},
   "outputs": [],
   "source": [
    "model.compile(\n",
    "    optimizer='adam',\n",
    "    loss='crossentropy',\n",
    "    metrics=['accuracy']\n",
    ")"
   ]
  },
  {
   "cell_type": "code",
   "execution_count": 30,
   "id": "0b2e503b",
   "metadata": {},
   "outputs": [
    {
     "name": "stdout",
     "output_type": "stream",
     "text": [
      "Model: \"vgg16\"\n",
      "_________________________________________________________________\n",
      " Layer (type)                Output Shape              Param #   \n",
      "=================================================================\n",
      " input_5 (InputLayer)        [(None, 224, 224, 3)]     0         \n",
      "                                                                 \n",
      " block1_conv1 (Conv2D)       (None, 224, 224, 64)      1792      \n",
      "                                                                 \n",
      " block1_conv2 (Conv2D)       (None, 224, 224, 64)      36928     \n",
      "                                                                 \n",
      " block1_pool (MaxPooling2D)  (None, 112, 112, 64)      0         \n",
      "                                                                 \n",
      " block2_conv1 (Conv2D)       (None, 112, 112, 128)     73856     \n",
      "                                                                 \n",
      " block2_conv2 (Conv2D)       (None, 112, 112, 128)     147584    \n",
      "                                                                 \n",
      " block2_pool (MaxPooling2D)  (None, 56, 56, 128)       0         \n",
      "                                                                 \n",
      " block3_conv1 (Conv2D)       (None, 56, 56, 256)       295168    \n",
      "                                                                 \n",
      " block3_conv2 (Conv2D)       (None, 56, 56, 256)       590080    \n",
      "                                                                 \n",
      " block3_conv3 (Conv2D)       (None, 56, 56, 256)       590080    \n",
      "                                                                 \n",
      " block3_pool (MaxPooling2D)  (None, 28, 28, 256)       0         \n",
      "                                                                 \n",
      " block4_conv1 (Conv2D)       (None, 28, 28, 512)       1180160   \n",
      "                                                                 \n",
      " block4_conv2 (Conv2D)       (None, 28, 28, 512)       2359808   \n",
      "                                                                 \n",
      " block4_conv3 (Conv2D)       (None, 28, 28, 512)       2359808   \n",
      "                                                                 \n",
      " block4_pool (MaxPooling2D)  (None, 14, 14, 512)       0         \n",
      "                                                                 \n",
      " block5_conv1 (Conv2D)       (None, 14, 14, 512)       2359808   \n",
      "                                                                 \n",
      " block5_conv2 (Conv2D)       (None, 14, 14, 512)       2359808   \n",
      "                                                                 \n",
      " block5_conv3 (Conv2D)       (None, 14, 14, 512)       2359808   \n",
      "                                                                 \n",
      " block5_pool (MaxPooling2D)  (None, 7, 7, 512)         0         \n",
      "                                                                 \n",
      " flatten (Flatten)           (None, 25088)             0         \n",
      "                                                                 \n",
      " fc1 (Dense)                 (None, 4096)              102764544 \n",
      "                                                                 \n",
      " fc2 (Dense)                 (None, 4096)              16781312  \n",
      "                                                                 \n",
      " predictions (Dense)         (None, 1000)              4097000   \n",
      "                                                                 \n",
      "=================================================================\n",
      "Total params: 138357544 (527.79 MB)\n",
      "Trainable params: 138357544 (527.79 MB)\n",
      "Non-trainable params: 0 (0.00 Byte)\n",
      "_________________________________________________________________\n"
     ]
    }
   ],
   "source": [
    "basemodel.summary()"
   ]
  },
  {
   "cell_type": "code",
   "execution_count": null,
   "id": "f58eb21f",
   "metadata": {},
   "outputs": [],
   "source": []
  }
 ],
 "metadata": {
  "kernelspec": {
   "display_name": "Python 3 (ipykernel)",
   "language": "python",
   "name": "python3"
  },
  "language_info": {
   "codemirror_mode": {
    "name": "ipython",
    "version": 3
   },
   "file_extension": ".py",
   "mimetype": "text/x-python",
   "name": "python",
   "nbconvert_exporter": "python",
   "pygments_lexer": "ipython3",
   "version": "3.11.2"
  }
 },
 "nbformat": 4,
 "nbformat_minor": 5
}
