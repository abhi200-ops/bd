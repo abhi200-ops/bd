{
 "cells": [
  {
   "cell_type": "code",
   "execution_count": 1,
   "id": "6cee54e0",
   "metadata": {},
   "outputs": [
    {
     "name": "stdout",
     "output_type": "stream",
     "text": [
      "x1 m 1.0\n",
      "x2 m 3.0\n",
      "x3 m 0.0\n",
      "x4 m 4.0\n",
      "x5 m 1.0\n",
      "x6 m 2.0\n",
      "x7 m 9.0\n",
      "The optimal value is : 20.0\n"
     ]
    },
    {
     "name": "stderr",
     "output_type": "stream",
     "text": [
      "C:\\Users\\acer\\anaconda3\\Lib\\site-packages\\pulp\\pulp.py:1316: UserWarning: Spaces are not permitted in the name. Converted to '_'\n",
      "  warnings.warn(\"Spaces are not permitted in the name. Converted to '_'\")\n"
     ]
    }
   ],
   "source": [
    "from pulp import *\n",
    "\n",
    "prob = LpProblem(\"Simple LP problem\",LpMinimize)\n",
    "\n",
    "x1= LpVariable(\"x1\")\n",
    "x2= LpVariable(\"x2\")\n",
    "x3= LpVariable(\"x3\")\n",
    "x4= LpVariable(\"x4\")\n",
    "x5= LpVariable(\"x5\")\n",
    "x6= LpVariable(\"x6\")\n",
    "x7= LpVariable(\"x7\")\n",
    "\n",
    "prob+= x1+x2+x3+x4+x5+x6+x7\n",
    "\n",
    "prob+= x1+x4+x5+x6+x7>= 17\n",
    "prob+= x1+x2+x5+x6+x7>=13\n",
    "prob+= x1+x2+x3+x6+x7>=15\n",
    "prob+= x1+x2+x3+x4+x7>=17\n",
    "prob+= x1+x2+x3+x4+x5>=9\n",
    "prob+= x2+x3+x4+x5+x6>=9\n",
    "prob+= x3+x4+x5+x6+x7>=12\n",
    "prob+= x1+x4+x5+x6+x7==17\n",
    "prob+= x1+x2+x5+x6+x7==16\n",
    "prob+= x1+x2+x3+x6+x7==15\n",
    "prob+= x1+x2+x3+x4+x7==17\n",
    "prob+= x1+x2+x3+x4+x5==9\n",
    "prob+= x2+x3+x4+x5+x6==10\n",
    "prob+= x3+x4+x5+x6+x7==16\n",
    "\n",
    "prob.solve()\n",
    "\n",
    "for v in prob.variables():\n",
    "    print(v.name,\"m\",v.varValue)\n",
    "    \n",
    "print(\"The optimal value is :\",value(prob.objective))"
   ]
  },
  {
   "cell_type": "code",
   "execution_count": null,
   "id": "4a80faef",
   "metadata": {},
   "outputs": [],
   "source": []
  }
 ],
 "metadata": {
  "kernelspec": {
   "display_name": "Python 3 (ipykernel)",
   "language": "python",
   "name": "python3"
  },
  "language_info": {
   "codemirror_mode": {
    "name": "ipython",
    "version": 3
   },
   "file_extension": ".py",
   "mimetype": "text/x-python",
   "name": "python",
   "nbconvert_exporter": "python",
   "pygments_lexer": "ipython3",
   "version": "3.11.3"
  }
 },
 "nbformat": 4,
 "nbformat_minor": 5
}
