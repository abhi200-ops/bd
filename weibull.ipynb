{
 "cells": [
  {
   "cell_type": "code",
   "execution_count": 1,
   "id": "56b6fd98-071a-4b74-93b3-42cd951e3cfb",
   "metadata": {},
   "outputs": [
    {
     "name": "stdout",
     "output_type": "stream",
     "text": [
      "Estimated alpha: 2.970165758035172\n",
      "Estimated beta: 20.93267563991009\n",
      "Estimated mean: 18.684303399870267\n",
      "Estimated sigma: 6.851855720396914\n"
     ]
    }
   ],
   "source": [
    "import numpy as np\n",
    "from scipy.optimize import minimize\n",
    "from scipy.stats import weibull_min\n",
    "from scipy.special import gamma\n",
    "\n",
    "# Example data from 7 machines\n",
    "machine_data = [8.5, 12.54, 13.75, 19.75, 21.46, 26.34, 28.45]\n",
    "\n",
    "# Define the moments of the Weibull distribution\n",
    "def weibull_moments(alpha, beta):\n",
    "    mean = beta * gamma(1 + 1/alpha)  # Mean formula for Weibull distribution\n",
    "    variance = beta**2 * (gamma(1 + 2/alpha) - (gamma(1 + 1/alpha))**2)  # Variance formula for Weibull distribution\n",
    "    return mean, np.sqrt(variance)\n",
    "\n",
    "# Define the objective function to minimize\n",
    "def objective(params):\n",
    "    alpha, beta = params\n",
    "    mean_data = np.mean(machine_data)\n",
    "    sigma_data = np.std(machine_data)\n",
    "    mean_model, sigma_model = weibull_moments(alpha, beta)\n",
    "    return (mean_model - mean_data)**2 + (sigma_model - sigma_data)**2\n",
    "\n",
    "# Initial guess for alpha and beta\n",
    "initial_guess = [1, 1]\n",
    "\n",
    "# Minimize the objective function\n",
    "result = minimize(objective, initial_guess, method='Nelder-Mead')\n",
    "\n",
    "# Estimated parameters\n",
    "alpha_estimated, beta_estimated = result.x\n",
    "mean_estimated, sigma_estimated = weibull_moments(alpha_estimated, beta_estimated)\n",
    "\n",
    "print(\"Estimated alpha:\", alpha_estimated)\n",
    "print(\"Estimated beta:\", beta_estimated)\n",
    "print(\"Estimated mean:\", mean_estimated)\n",
    "print(\"Estimated sigma:\", sigma_estimated)"
   ]
  },
  {
   "cell_type": "code",
   "execution_count": 2,
   "id": "19f57953-b085-476a-96d6-04aefacb0ef2",
   "metadata": {},
   "outputs": [
    {
     "name": "stdout",
     "output_type": "stream",
     "text": [
      "SSE: 886.7804092665997\n",
      "MSE: 126.68291560951424\n"
     ]
    }
   ],
   "source": [
    "# Generate reference values using estimated parameters\n",
    "reference_values = weibull_min.rvs(alpha_estimated, loc=mean_estimated, scale=sigma_estimated, size=len(machine_data))\n",
    "\n",
    "# Calculate SSE (Sum of Squared Errors)\n",
    "sse = np.sum((np.array(machine_data) - reference_values) ** 2)\n",
    "\n",
    "# Calculate Mean Squared Error (MSE)\n",
    "mse = sse / len(machine_data)\n",
    "\n",
    "print(\"SSE:\", sse)\n",
    "print(\"MSE:\", mse)"
   ]
  },
  {
   "cell_type": "code",
   "execution_count": null,
   "id": "cc30477b-bca4-4d82-927d-567ddcbebb38",
   "metadata": {},
   "outputs": [],
   "source": []
  }
 ],
 "metadata": {
  "kernelspec": {
   "display_name": "Python 3 (ipykernel)",
   "language": "python",
   "name": "python3"
  },
  "language_info": {
   "codemirror_mode": {
    "name": "ipython",
    "version": 3
   },
   "file_extension": ".py",
   "mimetype": "text/x-python",
   "name": "python",
   "nbconvert_exporter": "python",
   "pygments_lexer": "ipython3",
   "version": "3.11.5"
  }
 },
 "nbformat": 4,
 "nbformat_minor": 5
}
