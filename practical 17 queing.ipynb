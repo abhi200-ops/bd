{
 "cells": [
  {
   "cell_type": "code",
   "execution_count": 12,
   "id": "11fa02af",
   "metadata": {},
   "outputs": [
    {
     "name": "stdout",
     "output_type": "stream",
     "text": [
      "Average time a patient spends in the doctor's office: 14.6304\n"
     ]
    }
   ],
   "source": [
    "import random\n",
    "def time_between_arrivals():\n",
    "    rand_num = random.uniform(0, 1)\n",
    "    if rand_num < 0.5:\n",
    "        return 5\n",
    "    elif rand_num < 0.8:\n",
    "        return 10\n",
    "    else:\n",
    "        return 15\n",
    "\n",
    "def doctor_service_time():\n",
    "    rand_num = random.uniform(0, 1)\n",
    "    if rand_num < 0.3:\n",
    "        return 4\n",
    "    elif rand_num < 0.8:\n",
    "        return 8\n",
    "    else:\n",
    "        return 12\n",
    "\n",
    "def simulate_patient():\n",
    "    nurse_service_time = 7\n",
    "    arrival_time = 0\n",
    "    total_wait_time = 0\n",
    "\n",
    "    \n",
    "    for _ in range(10_000):  # Simulate 10,000 patients\n",
    "        arrival_time += time_between_arrivals()\n",
    "        service_start_time = max(arrival_time, total_wait_time)\n",
    "        doctor_time = doctor_service_time()\n",
    "        total_wait_time += nurse_service_time + doctor_time\n",
    "\n",
    "        average_time = total_wait_time / 10_000\n",
    "    return average_time\n",
    "\n",
    "average_time = simulate_patient()\n",
    "print(\"Average time a patient spends in the doctor's office:\", average_time)\n",
    "\n",
    "\n"
   ]
  },
  {
   "cell_type": "code",
   "execution_count": 10,
   "id": "741f820e",
   "metadata": {},
   "outputs": [
    {
     "ename": "NameError",
     "evalue": "name 'random' is not defined",
     "output_type": "error",
     "traceback": [
      "\u001b[1;31m---------------------------------------------------------------------------\u001b[0m",
      "\u001b[1;31mNameError\u001b[0m                                 Traceback (most recent call last)",
      "Cell \u001b[1;32mIn[10], line 1\u001b[0m\n\u001b[1;32m----> 1\u001b[0m average_time \u001b[38;5;241m=\u001b[39m \u001b[43msimulate_patient\u001b[49m\u001b[43m(\u001b[49m\u001b[43m)\u001b[49m\n\u001b[0;32m      2\u001b[0m \u001b[38;5;28mprint\u001b[39m(\u001b[38;5;124m\"\u001b[39m\u001b[38;5;124mAverage time a patient spends in the doctor\u001b[39m\u001b[38;5;124m'\u001b[39m\u001b[38;5;124ms office:\u001b[39m\u001b[38;5;124m\"\u001b[39m, average_time)\n",
      "Cell \u001b[1;32mIn[9], line 26\u001b[0m, in \u001b[0;36msimulate_patient\u001b[1;34m()\u001b[0m\n\u001b[0;32m     22\u001b[0m total_wait_time \u001b[38;5;241m=\u001b[39m \u001b[38;5;241m0\u001b[39m\n\u001b[0;32m     25\u001b[0m \u001b[38;5;28;01mfor\u001b[39;00m _ \u001b[38;5;129;01min\u001b[39;00m \u001b[38;5;28mrange\u001b[39m(\u001b[38;5;241m10_000\u001b[39m):  \u001b[38;5;66;03m# Simulate 10,000 patients\u001b[39;00m\n\u001b[1;32m---> 26\u001b[0m     arrival_time \u001b[38;5;241m+\u001b[39m\u001b[38;5;241m=\u001b[39m \u001b[43mtime_between_arrivals\u001b[49m\u001b[43m(\u001b[49m\u001b[43m)\u001b[49m\n\u001b[0;32m     27\u001b[0m     service_start_time \u001b[38;5;241m=\u001b[39m \u001b[38;5;28mmax\u001b[39m(arrival_time, total_wait_time)\n\u001b[0;32m     28\u001b[0m     doctor_time \u001b[38;5;241m=\u001b[39m doctor_service_time()\n",
      "Cell \u001b[1;32mIn[9], line 2\u001b[0m, in \u001b[0;36mtime_between_arrivals\u001b[1;34m()\u001b[0m\n\u001b[0;32m      1\u001b[0m \u001b[38;5;28;01mdef\u001b[39;00m \u001b[38;5;21mtime_between_arrivals\u001b[39m():\n\u001b[1;32m----> 2\u001b[0m     rand_num \u001b[38;5;241m=\u001b[39m \u001b[43mrandom\u001b[49m\u001b[38;5;241m.\u001b[39muniform(\u001b[38;5;241m0\u001b[39m, \u001b[38;5;241m1\u001b[39m)\n\u001b[0;32m      3\u001b[0m     \u001b[38;5;28;01mif\u001b[39;00m rand_num \u001b[38;5;241m<\u001b[39m \u001b[38;5;241m0.5\u001b[39m:\n\u001b[0;32m      4\u001b[0m         \u001b[38;5;28;01mreturn\u001b[39;00m \u001b[38;5;241m5\u001b[39m\n",
      "\u001b[1;31mNameError\u001b[0m: name 'random' is not defined"
     ]
    }
   ],
   "source": [
    "\n"
   ]
  },
  {
   "cell_type": "code",
   "execution_count": 4,
   "id": "7ff092e9",
   "metadata": {},
   "outputs": [],
   "source": []
  },
  {
   "cell_type": "code",
   "execution_count": 5,
   "id": "5ac6b1d4",
   "metadata": {},
   "outputs": [
    {
     "ename": "NameError",
     "evalue": "name 'arrival_time' is not defined",
     "output_type": "error",
     "traceback": [
      "\u001b[1;31m---------------------------------------------------------------------------\u001b[0m",
      "\u001b[1;31mNameError\u001b[0m                                 Traceback (most recent call last)",
      "Cell \u001b[1;32mIn[5], line 2\u001b[0m\n\u001b[0;32m      1\u001b[0m \u001b[38;5;28;01mfor\u001b[39;00m _ \u001b[38;5;129;01min\u001b[39;00m \u001b[38;5;28mrange\u001b[39m(\u001b[38;5;241m10_000\u001b[39m):  \u001b[38;5;66;03m# Simulate 10,000 patients\u001b[39;00m\n\u001b[1;32m----> 2\u001b[0m     \u001b[43marrival_time\u001b[49m \u001b[38;5;241m+\u001b[39m\u001b[38;5;241m=\u001b[39m time_between_arrivals()\n\u001b[0;32m      3\u001b[0m     service_start_time \u001b[38;5;241m=\u001b[39m \u001b[38;5;28mmax\u001b[39m(arrival_time, total_wait_time)\n\u001b[0;32m      4\u001b[0m     doctor_time \u001b[38;5;241m=\u001b[39m doctor_service_time()\n",
      "\u001b[1;31mNameError\u001b[0m: name 'arrival_time' is not defined"
     ]
    }
   ],
   "source": [
    "    for _ in range(10_000):  # Simulate 10,000 patients\n",
    "        arrival_time += time_between_arrivals()\n",
    "        service_start_time = max(arrival_time, total_wait_time)\n",
    "        doctor_time = doctor_service_time()\n",
    "        total_wait_time += nurse_service_time + doctor_time\n",
    "\n",
    "    average_time = total_wait_time / 10_000\n",
    "    return average_time\n",
    "\n"
   ]
  },
  {
   "cell_type": "code",
   "execution_count": null,
   "id": "768e9419",
   "metadata": {},
   "outputs": [],
   "source": []
  }
 ],
 "metadata": {
  "kernelspec": {
   "display_name": "Python 3 (ipykernel)",
   "language": "python",
   "name": "python3"
  },
  "language_info": {
   "codemirror_mode": {
    "name": "ipython",
    "version": 3
   },
   "file_extension": ".py",
   "mimetype": "text/x-python",
   "name": "python",
   "nbconvert_exporter": "python",
   "pygments_lexer": "ipython3",
   "version": "3.11.2"
  }
 },
 "nbformat": 4,
 "nbformat_minor": 5
}
