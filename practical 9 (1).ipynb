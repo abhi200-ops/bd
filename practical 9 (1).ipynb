{
 "cells": [
  {
   "cell_type": "code",
   "execution_count": 1,
   "id": "62cdfc3f",
   "metadata": {},
   "outputs": [
    {
     "name": "stdout",
     "output_type": "stream",
     "text": [
      "Optimal solution:\n",
      "Item 1: Take=0\n",
      "Item 2: Take=1\n",
      "Item 3: Take=1\n",
      "Item 4: Take=1\n",
      "Item 5: Take=1\n",
      "Total Value: 15.0\n"
     ]
    }
   ],
   "source": [
    "from pulp import LpMaximize, LpProblem, LpVariable\n",
    "\n",
    " \n",
    "\n",
    "items = {\n",
    "\n",
    "    1: {'weight': 12, 'value': 4},\n",
    "\n",
    "    2: {'weight': 1, 'value': 2},\n",
    "\n",
    "    3: {'weight': 4, 'value': 10},\n",
    "\n",
    "    4: {'weight': 1, 'value': 1},\n",
    "\n",
    "    5: {'weight': 2, 'value': 2},\n",
    "\n",
    "}\n",
    "\n",
    " \n",
    "\n",
    "weight_limitation = 15  # Set your weight limitation\n",
    "\n",
    " \n",
    "\n",
    "model = LpProblem(name=\"knapsack_problem\", sense=LpMaximize)\n",
    "\n",
    " \n",
    "\n",
    "take = LpVariable.dicts(\"Take\", items.keys(), cat=\"Binary\")\n",
    "\n",
    " \n",
    "\n",
    "model += sum(items[i]['value'] * take[i] for i in items), \"Total_Value\"\n",
    "\n",
    " \n",
    "\n",
    "model += sum(items[i]['weight'] * take[i] for i in items) <= weight_limitation, \"Weight_Constraint\"\n",
    "\n",
    " \n",
    "\n",
    "model.solve()\n",
    "\n",
    " \n",
    "\n",
    "print(\"Optimal solution:\")\n",
    "\n",
    "for i in items:\n",
    "\n",
    "    print(f\"Item {i}: Take={int(take[i].value())}\")\n",
    "\n",
    " \n",
    "\n",
    "print(f\"Total Value: {model.objective.value()}\")"
   ]
  },
  {
   "cell_type": "code",
   "execution_count": null,
   "id": "c8391e37",
   "metadata": {},
   "outputs": [],
   "source": []
  }
 ],
 "metadata": {
  "kernelspec": {
   "display_name": "Python 3 (ipykernel)",
   "language": "python",
   "name": "python3"
  },
  "language_info": {
   "codemirror_mode": {
    "name": "ipython",
    "version": 3
   },
   "file_extension": ".py",
   "mimetype": "text/x-python",
   "name": "python",
   "nbconvert_exporter": "python",
   "pygments_lexer": "ipython3",
   "version": "3.11.3"
  }
 },
 "nbformat": 4,
 "nbformat_minor": 5
}
