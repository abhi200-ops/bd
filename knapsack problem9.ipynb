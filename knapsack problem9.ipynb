{
 "cells": [
  {
   "cell_type": "code",
   "execution_count": 1,
   "id": "b31554fd",
   "metadata": {},
   "outputs": [],
   "source": [
    "from pulp import *\n"
   ]
  },
  {
   "cell_type": "code",
   "execution_count": 2,
   "id": "bbcc8611",
   "metadata": {},
   "outputs": [],
   "source": [
    "prob=LpProblem(\"knapsack\",LpMaximize)\n",
    "x1=LpVariable('x1',lowBound=0,upBound=1,cat='binary')\n",
    "x2=LpVariable('x2',lowBound=0,upBound=1,cat='binary')\n",
    "x3=LpVariable('x3',lowBound=0,upBound=1,cat='binary')\n",
    "x4=LpVariable('x4',lowBound=0,upBound=1,cat='binary')\n",
    "x5=LpVariable('x5',lowBound=0,upBound=1,cat='binary')\n",
    "\n"
   ]
  },
  {
   "cell_type": "code",
   "execution_count": 9,
   "id": "f4d7181f",
   "metadata": {},
   "outputs": [
    {
     "name": "stderr",
     "output_type": "stream",
     "text": [
      "C:\\Users\\Lenovo\\AppData\\Local\\Programs\\Python\\Python311\\Lib\\site-packages\\pulp\\pulp.py:1668: UserWarning: Overwriting previously set objective.\n",
      "  warnings.warn(\"Overwriting previously set objective.\")\n"
     ]
    }
   ],
   "source": [
    "prob+=+4*x1+2*x2+10*x3+x4+2*x5\n",
    "prob+=+12*x1+x2+4*x3+x4+2*x5<=15\n"
   ]
  },
  {
   "cell_type": "code",
   "execution_count": 10,
   "id": "5d4a84a0",
   "metadata": {},
   "outputs": [
    {
     "data": {
      "text/plain": [
       "1"
      ]
     },
     "execution_count": 10,
     "metadata": {},
     "output_type": "execute_result"
    }
   ],
   "source": [
    "prob.solve()"
   ]
  },
  {
   "cell_type": "code",
   "execution_count": 14,
   "id": "ebd251c2",
   "metadata": {},
   "outputs": [
    {
     "name": "stdout",
     "output_type": "stream",
     "text": [
      "x1    0\n",
      "x2    1.0\n",
      "x3    1.0\n",
      "x4    1.0\n",
      "x5    1.0\n"
     ]
    }
   ],
   "source": [
    "for v in prob.variables():\n",
    "    if v.varValue <1:\n",
    "        v.varValue=0\n",
    "    print(v.name,'  ',v.varValue)"
   ]
  },
  {
   "cell_type": "code",
   "execution_count": 15,
   "id": "3ae595a4",
   "metadata": {},
   "outputs": [
    {
     "name": "stdout",
     "output_type": "stream",
     "text": [
      "15.0\n"
     ]
    }
   ],
   "source": [
    "print(value(prob.objective))"
   ]
  },
  {
   "cell_type": "code",
   "execution_count": null,
   "id": "2043ee3f",
   "metadata": {},
   "outputs": [],
   "source": []
  },
  {
   "cell_type": "code",
   "execution_count": null,
   "id": "de9928ad",
   "metadata": {},
   "outputs": [],
   "source": []
  },
  {
   "cell_type": "code",
   "execution_count": null,
   "id": "a00cb260",
   "metadata": {},
   "outputs": [],
   "source": []
  }
 ],
 "metadata": {
  "kernelspec": {
   "display_name": "Python 3 (ipykernel)",
   "language": "python",
   "name": "python3"
  },
  "language_info": {
   "codemirror_mode": {
    "name": "ipython",
    "version": 3
   },
   "file_extension": ".py",
   "mimetype": "text/x-python",
   "name": "python",
   "nbconvert_exporter": "python",
   "pygments_lexer": "ipython3",
   "version": "3.11.2"
  }
 },
 "nbformat": 4,
 "nbformat_minor": 5
}
